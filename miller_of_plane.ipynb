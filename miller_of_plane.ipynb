{
 "cells": [
  {
   "cell_type": "markdown",
   "metadata": {},
   "source": [
    "# Finding Miller index of plane"
   ]
  },
  {
   "cell_type": "code",
   "execution_count": 41,
   "metadata": {},
   "outputs": [],
   "source": [
    "from pymatgen.io.lammps.data import LammpsData\n",
    "import numpy as np\n",
    "import matplotlib.pyplot as plt\n",
    "import plotly.express as px\n",
    "import pandas as pd \n",
    "import transformation as tfm\n",
    "from functools import reduce"
   ]
  },
  {
   "cell_type": "markdown",
   "metadata": {},
   "source": [
    "## Get original structure lattice vectors"
   ]
  },
  {
   "cell_type": "code",
   "execution_count": 22,
   "metadata": {},
   "outputs": [
    {
     "name": "stdout",
     "output_type": "stream",
     "text": [
      "Original Lattice Vectors: \n",
      "a: [5.193 0.    0.   ]\n",
      "b: [2.116065 4.742311 0.      ]\n",
      "c: [2.116066 1.372958 4.539217]\n"
     ]
    }
   ],
   "source": [
    "filename = '/home/kimia.gh/blue2/B4C_ML_Potential/analysis_scripts/data_files/all_atoms/data.B12-CBC'\n",
    "struct_orig = LammpsData.from_file(filename,atom_style='atomic').structure\n",
    "coord_axes_orig = [[1,0,0],[0,1,0],[0,0,1]]\n",
    "A1 = struct_orig.lattice.matrix\n",
    "print(f'Original Lattice Vectors: \\na: {A1[0]}\\nb: {A1[1]}\\nc: {A1[2]}')"
   ]
  },
  {
   "cell_type": "markdown",
   "metadata": {},
   "source": [
    "## Rotate the structure for desired angle\n",
    "Then get lattice vectors and new coordinate axes vectors"
   ]
  },
  {
   "cell_type": "code",
   "execution_count": 23,
   "metadata": {},
   "outputs": [
    {
     "name": "stdout",
     "output_type": "stream",
     "text": [
      "Rotated Lattice Vectors: \n",
      "a: [ 2.90745421 -1.48292128  4.03917114]\n",
      "b: [-0.16948041  3.25938996  4.03917048]\n",
      "c: [-2.7379738  -1.77646869  4.03917052]\n"
     ]
    }
   ],
   "source": [
    "struct_rot,new_coord_axes = tfm.rotate_lattice(struct_orig,0)\n",
    "A2 = struct_rot.lattice.matrix\n",
    "print(f'Rotated Lattice Vectors: \\na: {A2[0]}\\nb: {A2[1]}\\nc: {A2[2]}')"
   ]
  },
  {
   "cell_type": "markdown",
   "metadata": {},
   "source": [
    "## Get transormation matrix from rotated coordinate system to original coordinate system"
   ]
  },
  {
   "cell_type": "code",
   "execution_count": 32,
   "metadata": {},
   "outputs": [],
   "source": [
    "#Get transformation matrix for rotating cartesian coordinates to align with new_coor_axes\n",
    "T = np.dot(coord_axes_orig, np.linalg.inv(new_coord_axes))"
   ]
  },
  {
   "cell_type": "markdown",
   "metadata": {},
   "source": [
    "## Transform plane from new coordinate system back to original coordinate system\n",
    "\n",
    "$z = -0.01403x - 1.075y+316.8$"
   ]
  },
  {
   "cell_type": "code",
   "execution_count": 40,
   "metadata": {},
   "outputs": [
    {
     "data": {
      "text/plain": [
       "array([8.52813714e-06, 2.03340114e-05, 2.01516233e-05])"
      ]
     },
     "execution_count": 40,
     "metadata": {},
     "output_type": "execute_result"
    }
   ],
   "source": [
    "#locations where the plane intersects with the rotated x,y,z axes\n",
    "plane_cart_rot = np.array([316.8/0.01403, 316.8/1.075, 316.8])\n",
    "\n",
    "#find transformation from coord axes to crystal axes\n",
    "T_coord_to_crystal = np.dot(A2,np.linalg.inv(new_coord_axes))\n",
    "\n",
    "#find intersection of plane with crystal axes\n",
    "plane_crystal = np.dot(T_coord_to_crystal,plane_cart_rot)\n",
    "\n",
    "#take reciprocals of intersepts\n",
    "hkl = np.reciprocal(plane_crystal)\n",
    "\n",
    "hkl\n"
   ]
  },
  {
   "cell_type": "code",
   "execution_count": 43,
   "metadata": {},
   "outputs": [
    {
     "name": "stdout",
     "output_type": "stream",
     "text": [
      "Whole numbers (Miller indices): [5935132654944, 14151393895872, 14024462570791]\n",
      "Least common denominator: 695946978094496628\n"
     ]
    }
   ],
   "source": [
    "import numpy as np\n",
    "from fractions import Fraction\n",
    "from math import gcd\n",
    "from functools import reduce\n",
    "\n",
    "# Function to find the least common denominator (LCD) of a list of numbers\n",
    "def lcm(a, b):\n",
    "    return abs(a * b) // gcd(a, b)\n",
    "\n",
    "def find_lcd(denominators):\n",
    "    return reduce(lcm, denominators)\n",
    "\n",
    "# Function to clear fractions\n",
    "def clear_fractions(reciprocals):\n",
    "    # Convert each number to a fraction\n",
    "    fractions = [Fraction(value).limit_denominator() for value in reciprocals]\n",
    "    \n",
    "    # Extract denominators\n",
    "    denominators = [frac.denominator for frac in fractions]\n",
    "    \n",
    "    # Find the least common denominator (LCD)\n",
    "    lcd = find_lcd(denominators)\n",
    "    \n",
    "    # Multiply each fraction by the LCD to get whole numbers\n",
    "    cleared_fractions = [frac * lcd for frac in fractions]\n",
    "    \n",
    "    # Return the whole numbers (numerators)\n",
    "    return [int(frac.numerator) for frac in cleared_fractions], lcd\n",
    "\n",
    "# Example usage\n",
    "reciprocals = hkl  # Example: (1, 1/2, 0) corresponds to intercepts (1, 2, ∞)\n",
    "\n",
    "# Clear fractions and return whole numbers\n",
    "whole_numbers, lcd = clear_fractions(reciprocals)\n",
    "\n",
    "# Output\n",
    "print(\"Whole numbers (Miller indices):\", whole_numbers)\n",
    "print(\"Least common denominator:\", lcd)\n"
   ]
  },
  {
   "cell_type": "code",
   "execution_count": 52,
   "metadata": {},
   "outputs": [],
   "source": [
    "miller = (np.array(whole_numbers).round(2)/5935132654944).round(1)"
   ]
  },
  {
   "cell_type": "code",
   "execution_count": 53,
   "metadata": {},
   "outputs": [],
   "source": [
    "T_crys_to_cart = np.linalg.inv(T_coord_to_crystal)"
   ]
  },
  {
   "cell_type": "code",
   "execution_count": 55,
   "metadata": {},
   "outputs": [
    {
     "data": {
      "text/plain": [
       "array([0.19256692, 0.0019363 , 0.00143723])"
      ]
     },
     "execution_count": 55,
     "metadata": {},
     "output_type": "execute_result"
    }
   ],
   "source": [
    "plane = np.dot(T_crys_to_cart,np.reciprocal(miller))\n",
    "plane"
   ]
  },
  {
   "cell_type": "code",
   "execution_count": 58,
   "metadata": {},
   "outputs": [
    {
     "data": {
      "text/plain": [
       "array([1.  , 0.01, 0.01])"
      ]
     },
     "execution_count": 58,
     "metadata": {},
     "output_type": "execute_result"
    }
   ],
   "source": [
    "(plane/np.linalg.norm(plane)).round(2)"
   ]
  }
 ],
 "metadata": {
  "kernelspec": {
   "display_name": "pmg",
   "language": "python",
   "name": "python3"
  },
  "language_info": {
   "codemirror_mode": {
    "name": "ipython",
    "version": 3
   },
   "file_extension": ".py",
   "mimetype": "text/x-python",
   "name": "python",
   "nbconvert_exporter": "python",
   "pygments_lexer": "ipython3",
   "version": "3.9.17"
  }
 },
 "nbformat": 4,
 "nbformat_minor": 2
}
